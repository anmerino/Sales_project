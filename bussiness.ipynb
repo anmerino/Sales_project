{
 "cells": [
  {
   "cell_type": "markdown",
   "metadata": {},
   "source": [
    "# Data Analyst Portfolio Project – Sales Management\n",
    "\n",
    "## Business Request & User Stories\n",
    "\n",
    "The business requirement for this data analysis project was an executive sales report for sales managers. Based on the request, the following user stories were defined to ensure the delivery met the acceptance criteria throughout the project.\n",
    "\n",
    "| #   | Role             | Request                                     | User Value                                               | Acceptance Criteria                                             |\n",
    "|-----|------------------|---------------------------------------------|----------------------------------------------------------|-----------------------------------------------------------------|\n",
    "| 1   | Sales Manager    | Obtain an overview of online sales          | Better track customers and top-selling products          | A Power BI dashboard that updates data daily                    |\n",
    "| 2   | Sales Representative | Detailed view of online sales by customer | Track top-buying customers and potential sales opportunities | A Power BI dashboard allowing data filtering by customer        |\n",
    "| 3   | Sales Representative | Detailed view of online sales by product  | Track top-selling products                               | A Power BI dashboard allowing data filtering by product         |\n",
    "| 4   | Sales Manager    | Overview of online sales                    | Track sales over time against the budget                 | A Power BI dashboard with charts and KPIs comparing against the budget |\n",
    "\n",
    "## Data Cleansing & Transformation (SQL)\n",
    "\n",
    "To create the necessary data model for analysis and meet business needs defined in the user stories, the following tables were extracted using SQL.\n",
    "\n",
    "### Calendar\n",
    "\n",
    "```sql\n",
    "-- Cleansed Calendar Table --\n",
    "SELECT \n",
    "  [DateKey], \n",
    "  [FullDateAlternateKey] AS Date, \n",
    "  [EnglishDayNameOfWeek] AS Day, \n",
    "  [EnglishMonthName] AS Month, \n",
    "  Left([EnglishMonthName], 3) AS MonthShort,\n",
    "  [MonthNumberOfYear] AS MonthNo, \n",
    "  [CalendarQuarter] AS Quarter, \n",
    "  [CalendarYear] AS Year\n",
    "FROM \n",
    "  [AdventureWorksDW2019].[dbo].[DimDate]\n",
    "WHERE \n",
    "  CalendarYear >= 2019\n"
   ]
  },
  {
   "cell_type": "markdown",
   "metadata": {},
   "source": [
    "```sql\n",
    "-- Cleansed Customers Table --\n",
    "SELECT \n",
    "  c.customerkey AS CustomerKey, \n",
    "  c.firstname AS [First Name], \n",
    "  c.lastname AS [Last Name], \n",
    "  c.firstname + ' ' + lastname AS [Full Name], \n",
    "  CASE c.gender WHEN 'M' THEN 'Male' WHEN 'F' THEN 'Female' END AS Gender,\n",
    "  c.datefirstpurchase AS DateFirstPurchase, \n",
    "  g.city AS [Customer City]\n",
    "FROM \n",
    "  [AdventureWorksDW2019].[dbo].[DimCustomer] as c\n",
    "  LEFT JOIN dbo.dimgeography AS g ON g.geographykey = c.geographykey \n",
    "ORDER BY \n",
    "  CustomerKey ASC\n"
   ]
  },
  {
   "cell_type": "markdown",
   "metadata": {},
   "source": [
    "```sql\n",
    "-- Cleansed Products Table --\n",
    "SELECT \n",
    "  p.[ProductKey], \n",
    "  p.[ProductAlternateKey] AS ProductItemCode, \n",
    "  p.[EnglishProductName] AS [Product Name], \n",
    "  ps.EnglishProductSubcategoryName AS [Sub Category], \n",
    "  pc.EnglishProductCategoryName AS [Product Category], \n",
    "  p.[Color] AS [Product Color], \n",
    "  p.[Size] AS [Product Size], \n",
    "  p.[ProductLine] AS [Product Line], \n",
    "  p.[ModelName] AS [Product Model Name], \n",
    "  p.[EnglishDescription] AS [Product Description], \n",
    "  ISNULL (p.Status, 'Outdated') AS [Product Status] \n",
    "FROM \n",
    "  [AdventureWorksDW2019].[dbo].[DimProduct] as p\n",
    "  LEFT JOIN dbo.DimProductSubcategory AS ps ON ps.ProductSubcategoryKey = p.ProductSubcategoryKey \n",
    "  LEFT JOIN dbo.DimProductCategory AS pc ON ps.ProductCategoryKey = pc.ProductCategoryKey \n",
    "ORDER BY \n",
    "  p.ProductKey ASC\n"
   ]
  },
  {
   "cell_type": "markdown",
   "metadata": {},
   "source": [
    "```sql\n",
    "-- Cleansed InternetSales Table --\n",
    "SELECT \n",
    "  [ProductKey], \n",
    "  [OrderDateKey], \n",
    "  [DueDateKey], \n",
    "  [ShipDateKey], \n",
    "  [CustomerKey], \n",
    "  [SalesOrderNumber], \n",
    "  [SalesAmount]\n",
    "FROM \n",
    "  [AdventureWorksDW2019].[dbo].[FactInternetSales]\n",
    "WHERE \n",
    "  LEFT (OrderDateKey, 4) >= YEAR(GETDATE()) -2\n",
    "ORDER BY\n",
    "  OrderDateKey ASC\n"
   ]
  },
  {
   "cell_type": "markdown",
   "metadata": {},
   "source": [
    "### Data Model\n",
    "Below is a screenshot of the data model after the cleansed and prepared tables were read into Power BI.\n",
    "\n",
    "This data model also shows how Budget has been connected to InternetSales and other necessary tables.\n",
    "\n",
    "![Data Model](https://drive.google.com/file/d/11tWFW-fEqsALsd53hLdFC8UOTLOjYvSi/view?usp=drive_link)\n",
    "\n",
    "\n",
    "\n",
    "### Sales Management Dashboard\n",
    "The finished sales management dashboard has a page that functions as a dashboard and overview, with two other pages focused on combining tables for necessary details and visualizations that show sales over time, by customers, and by products.\n",
    "\n",
    "Click the image to open the dashboard and test it."
   ]
  },
  {
   "cell_type": "markdown",
   "metadata": {},
   "source": [
    "https://app.powerbi.com/view?r=eyJrIjoiNTViNzNjMGYtMWJlMS00ZjU0LThmYTMtZTc3ZDVhZTg4MTI5IiwidCI6ImRmODY3OWNkLWE4MGUtNDVkOC05OWFjLWM4M2VkN2ZmOTVhMCJ9&pageName=18c93fd5d471395e58dd"
   ]
  },
  {
   "cell_type": "markdown",
   "metadata": {},
   "source": []
  }
 ],
 "metadata": {
  "kernelspec": {
   "display_name": "base",
   "language": "python",
   "name": "python3"
  },
  "language_info": {
   "codemirror_mode": {
    "name": "ipython",
    "version": 3
   },
   "file_extension": ".py",
   "mimetype": "text/x-python",
   "name": "python",
   "nbconvert_exporter": "python",
   "pygments_lexer": "ipython3",
   "version": "3.11.7"
  }
 },
 "nbformat": 4,
 "nbformat_minor": 2
}
